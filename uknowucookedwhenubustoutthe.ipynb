{
 "cells": [
  {
   "cell_type": "code",
   "execution_count": 2,
   "id": "initial_id",
   "metadata": {
    "collapsed": true,
    "ExecuteTime": {
     "end_time": "2024-06-02T01:49:01.650634Z",
     "start_time": "2024-06-02T01:49:01.619382Z"
    }
   },
   "outputs": [
    {
     "data": {
      "text/plain": "category  food   fun    living  transport  savings  education\n2024-05    0.0   0.0  100000.0        0.0      0.0        0.0\n2024-06    7.0  17.0       0.0        0.0      0.0        0.0\nALL        7.0  17.0  100000.0        0.0      0.0        0.0",
      "text/html": "<div>\n<style scoped>\n    .dataframe tbody tr th:only-of-type {\n        vertical-align: middle;\n    }\n\n    .dataframe tbody tr th {\n        vertical-align: top;\n    }\n\n    .dataframe thead th {\n        text-align: right;\n    }\n</style>\n<table border=\"1\" class=\"dataframe\">\n  <thead>\n    <tr style=\"text-align: right;\">\n      <th>category</th>\n      <th>food</th>\n      <th>fun</th>\n      <th>living</th>\n      <th>transport</th>\n      <th>savings</th>\n      <th>education</th>\n    </tr>\n  </thead>\n  <tbody>\n    <tr>\n      <th>2024-05</th>\n      <td>0.0</td>\n      <td>0.0</td>\n      <td>100000.0</td>\n      <td>0.0</td>\n      <td>0.0</td>\n      <td>0.0</td>\n    </tr>\n    <tr>\n      <th>2024-06</th>\n      <td>7.0</td>\n      <td>17.0</td>\n      <td>0.0</td>\n      <td>0.0</td>\n      <td>0.0</td>\n      <td>0.0</td>\n    </tr>\n    <tr>\n      <th>ALL</th>\n      <td>7.0</td>\n      <td>17.0</td>\n      <td>100000.0</td>\n      <td>0.0</td>\n      <td>0.0</td>\n      <td>0.0</td>\n    </tr>\n  </tbody>\n</table>\n</div>"
     },
     "execution_count": 2,
     "metadata": {},
     "output_type": "execute_result"
    }
   ],
   "source": []
  },
  {
   "cell_type": "code",
   "outputs": [
    {
     "data": {
      "text/plain": "        date   amount\n0 2024-05-27   321.79\n1 2024-05-28    23.57\n2 2024-05-29    29.44\n3 2024-05-30     6.26\n4 2024-05-31    17.34\n5 2024-06-01  1216.01",
      "text/html": "<div>\n<style scoped>\n    .dataframe tbody tr th:only-of-type {\n        vertical-align: middle;\n    }\n\n    .dataframe tbody tr th {\n        vertical-align: top;\n    }\n\n    .dataframe thead th {\n        text-align: right;\n    }\n</style>\n<table border=\"1\" class=\"dataframe\">\n  <thead>\n    <tr style=\"text-align: right;\">\n      <th></th>\n      <th>date</th>\n      <th>amount</th>\n    </tr>\n  </thead>\n  <tbody>\n    <tr>\n      <th>0</th>\n      <td>2024-05-27</td>\n      <td>321.79</td>\n    </tr>\n    <tr>\n      <th>1</th>\n      <td>2024-05-28</td>\n      <td>23.57</td>\n    </tr>\n    <tr>\n      <th>2</th>\n      <td>2024-05-29</td>\n      <td>29.44</td>\n    </tr>\n    <tr>\n      <th>3</th>\n      <td>2024-05-30</td>\n      <td>6.26</td>\n    </tr>\n    <tr>\n      <th>4</th>\n      <td>2024-05-31</td>\n      <td>17.34</td>\n    </tr>\n    <tr>\n      <th>5</th>\n      <td>2024-06-01</td>\n      <td>1216.01</td>\n    </tr>\n  </tbody>\n</table>\n</div>"
     },
     "execution_count": 1,
     "metadata": {},
     "output_type": "execute_result"
    }
   ],
   "source": [
    "from personal_finance import PersonalFinance\n",
    "\n",
    "pf = PersonalFinance('user')\n",
    "pf.load()\n",
    "\n",
    "pf.daily_totals"
   ],
   "metadata": {
    "collapsed": false,
    "ExecuteTime": {
     "end_time": "2024-06-02T05:00:05.492676Z",
     "start_time": "2024-06-02T05:00:04.882377Z"
    }
   },
   "id": "147e325d06f23392",
   "execution_count": 1
  },
  {
   "cell_type": "code",
   "outputs": [
    {
     "data": {
      "text/plain": "(array([0, 1, 2, 3, 4, 5]),\n [Text(0, 0, '2024-05-27'),\n  Text(1, 0, '2024-05-28'),\n  Text(2, 0, '2024-05-29'),\n  Text(3, 0, '2024-05-30'),\n  Text(4, 0, '2024-05-31'),\n  Text(5, 0, '2024-06-01')])"
     },
     "execution_count": 25,
     "metadata": {},
     "output_type": "execute_result"
    },
    {
     "data": {
      "text/plain": "<Figure size 1000x300 with 1 Axes>",
      "image/png": "[encoded data removed]"
     },
     "metadata": {},
     "output_type": "display_data"
    }
   ],
   "source": [
    "import matplotlib.pyplot as plt\n",
    "import seaborn as sns\n",
    "import numpy as np\n",
    "\n",
    "daily_totals = pf.daily_totals\n",
    "daily_totals['date'] = daily_totals['date'].apply(lambda date: str(date)[:10])\n",
    "\n",
    "plt.figure(figsize=(10, 3))\n",
    "sns.set_theme(style='white', color_codes=True)\n",
    "sns.set_palette('Paired')\n",
    "sns.barplot(data=pf.daily_totals, x='date', y='amount', width = 0.3)\n",
    "plt.xticks(rotation=90)"
   ],
   "metadata": {
    "collapsed": false,
    "ExecuteTime": {
     "end_time": "2024-06-02T05:05:10.690507Z",
     "start_time": "2024-06-02T05:05:10.572370Z"
    }
   },
   "id": "991919ac7c8adc20",
   "execution_count": 25
  },
  {
   "cell_type": "code",
   "outputs": [],
   "source": [
    "mt = pf.monthly_totals"
   ],
   "metadata": {
    "collapsed": false,
    "ExecuteTime": {
     "end_time": "2024-06-02T01:50:47.156123Z",
     "start_time": "2024-06-02T01:50:47.149741Z"
    }
   },
   "id": "8e8c09e1ea9a4483",
   "execution_count": 12
  },
  {
   "cell_type": "code",
   "outputs": [
    {
     "data": {
      "text/plain": "category\nfood              0.0\nfun               0.0\nliving       100000.0\ntransport         0.0\nsavings           0.0\neducation         0.0\nName: 2024-05, dtype: float64"
     },
     "execution_count": 20,
     "metadata": {},
     "output_type": "execute_result"
    }
   ],
   "source": [
    "\n",
    "\n",
    "from pandas import Period\n",
    "\n",
    "mt.loc[Period('2024-05', 'M')]"
   ],
   "metadata": {
    "collapsed": false,
    "ExecuteTime": {
     "end_time": "2024-06-02T01:51:30.919272Z",
     "start_time": "2024-06-02T01:51:30.904721Z"
    }
   },
   "id": "f4cd84910bf497d9",
   "execution_count": 20
  },
  {
   "cell_type": "code",
   "outputs": [],
   "source": [
    "dat = pf.data"
   ],
   "metadata": {
    "collapsed": false,
    "ExecuteTime": {
     "end_time": "2024-06-02T02:02:59.636680Z",
     "start_time": "2024-06-02T02:02:59.631560Z"
    }
   },
   "id": "52e627b6ca58ea57",
   "execution_count": 29
  },
  {
   "cell_type": "code",
   "outputs": [
    {
     "data": {
      "text/plain": "        date category         title  amount                     notes\n0 2024-06-01     food       gongcha     7.0       taro bubble tea fye\n1 2024-06-01      fun        cloud9    17.0                      zaza\n2 2024-06-01      fun  travel goods    10.0  travel goods from target",
      "text/html": "<div>\n<style scoped>\n    .dataframe tbody tr th:only-of-type {\n        vertical-align: middle;\n    }\n\n    .dataframe tbody tr th {\n        vertical-align: top;\n    }\n\n    .dataframe thead th {\n        text-align: right;\n    }\n</style>\n<table border=\"1\" class=\"dataframe\">\n  <thead>\n    <tr style=\"text-align: right;\">\n      <th></th>\n      <th>date</th>\n      <th>category</th>\n      <th>title</th>\n      <th>amount</th>\n      <th>notes</th>\n    </tr>\n  </thead>\n  <tbody>\n    <tr>\n      <th>0</th>\n      <td>2024-06-01</td>\n      <td>food</td>\n      <td>gongcha</td>\n      <td>7.0</td>\n      <td>taro bubble tea fye</td>\n    </tr>\n    <tr>\n      <th>1</th>\n      <td>2024-06-01</td>\n      <td>fun</td>\n      <td>cloud9</td>\n      <td>17.0</td>\n      <td>zaza</td>\n    </tr>\n    <tr>\n      <th>2</th>\n      <td>2024-06-01</td>\n      <td>fun</td>\n      <td>travel goods</td>\n      <td>10.0</td>\n      <td>travel goods from target</td>\n    </tr>\n  </tbody>\n</table>\n</div>"
     },
     "execution_count": 33,
     "metadata": {},
     "output_type": "execute_result"
    }
   ],
   "source": [
    "dat.drop(index = 3)"
   ],
   "metadata": {
    "collapsed": false,
    "ExecuteTime": {
     "end_time": "2024-06-02T02:04:33.192976Z",
     "start_time": "2024-06-02T02:04:33.185458Z"
    }
   },
   "id": "fa3984a160f5f475",
   "execution_count": 33
  },
  {
   "cell_type": "code",
   "outputs": [
    {
     "data": {
      "text/plain": "        date category         title    amount                     notes\n0 2024-06-01     food       gongcha       7.0       taro bubble tea fye\n1 2024-06-01      fun        cloud9      17.0                      zaza\n2 2024-06-01      fun  travel goods      10.0  travel goods from target\n3 2024-05-15   living          test  100000.0                        hi",
      "text/html": "<div>\n<style scoped>\n    .dataframe tbody tr th:only-of-type {\n        vertical-align: middle;\n    }\n\n    .dataframe tbody tr th {\n        vertical-align: top;\n    }\n\n    .dataframe thead th {\n        text-align: right;\n    }\n</style>\n<table border=\"1\" class=\"dataframe\">\n  <thead>\n    <tr style=\"text-align: right;\">\n      <th></th>\n      <th>date</th>\n      <th>category</th>\n      <th>title</th>\n      <th>amount</th>\n      <th>notes</th>\n    </tr>\n  </thead>\n  <tbody>\n    <tr>\n      <th>0</th>\n      <td>2024-06-01</td>\n      <td>food</td>\n      <td>gongcha</td>\n      <td>7.0</td>\n      <td>taro bubble tea fye</td>\n    </tr>\n    <tr>\n      <th>1</th>\n      <td>2024-06-01</td>\n      <td>fun</td>\n      <td>cloud9</td>\n      <td>17.0</td>\n      <td>zaza</td>\n    </tr>\n    <tr>\n      <th>2</th>\n      <td>2024-06-01</td>\n      <td>fun</td>\n      <td>travel goods</td>\n      <td>10.0</td>\n      <td>travel goods from target</td>\n    </tr>\n    <tr>\n      <th>3</th>\n      <td>2024-05-15</td>\n      <td>living</td>\n      <td>test</td>\n      <td>100000.0</td>\n      <td>hi</td>\n    </tr>\n  </tbody>\n</table>\n</div>"
     },
     "execution_count": 34,
     "metadata": {},
     "output_type": "execute_result"
    }
   ],
   "source": [
    "dat"
   ],
   "metadata": {
    "collapsed": false,
    "ExecuteTime": {
     "end_time": "2024-06-02T02:04:34.860423Z",
     "start_time": "2024-06-02T02:04:34.851060Z"
    }
   },
   "id": "dbfa1923392aff12",
   "execution_count": 34
  },
  {
   "cell_type": "code",
   "outputs": [],
   "source": [],
   "metadata": {
    "collapsed": false
   },
   "id": "af9351c38157fea5"
  },
  {
   "cell_type": "code",
   "outputs": [],
   "source": [],
   "metadata": {
    "collapsed": false
   },
   "id": "a464719f6491b5de"
  },
  {
   "cell_type": "code",
   "outputs": [],
   "source": [
    "\"\"\"\n",
    "PersonalFinance class, define with person's name\n",
    "attrib .data: a pandas DataFrame with entries, columns: ['date', 'category', 'title', 'amount', 'notes']\n",
    "attrib .barchart: barchart in the form of a DataFrame, with the category, category sum ('amount'), and height (log scale of amount)\n",
    "\n",
    " ／l、\n",
    "（ﾟ､ ｡ ７\n",
    "  l  ~ヽ\n",
    "  じしf_,)ノ\n",
    "\"\"\"\n",
    "\n",
    "import pandas as pd\n",
    "from datetime import datetime as dt\n",
    "import numpy as np\n",
    "import os\n",
    "\n",
    "class PersonalFinance:\n",
    "    def __init__(self, name: str):\n",
    "        self.name = name\n",
    "        # initialize dataframe with these columns\n",
    "        self.data = pd.DataFrame(columns=['date', 'category', 'title', 'amount', 'notes'])\n",
    "\n",
    "        # dataframe for totals is stored here. also includes month\n",
    "        self._cat_totals = pd.DataFrame(columns=['category', 'amount'])\n",
    "\n",
    "    def new_entry(self, date: dt.date, category: str, title: str, amount: float, notes: str = ' ') -> None:\n",
    "        new_row = pd.DataFrame([{\n",
    "            'date': date,\n",
    "            'category': category,\n",
    "            'title': title,\n",
    "            'amount': amount,\n",
    "            'notes': notes\n",
    "        }])\n",
    "        self.data = pd.concat([self.data, new_row], ignore_index=True)\n",
    "\n",
    "    @property\n",
    "    def _temp_data(self) -> pd.DataFrame:\n",
    "        # data with month, internally stored because redundant w date\n",
    "        df = self.data.copy()\n",
    "        df['date'] = pd.to_datetime(df['date'])\n",
    "        df['month'] = df['date'].dt.to_period('M')\n",
    "        return df\n",
    "\n",
    "    @property\n",
    "    def cat_totals(self) -> pd.DataFrame | None:\n",
    "        # totals by category irrespective of month\n",
    "        if not self._temp_data.empty:\n",
    "            # df = self._temp_data['amount'].apply(lambda amt: float(amt)) # make sure all in float\n",
    "            return self._temp_data[['category', 'amount']].groupby('category').sum().reset_index()\n",
    "        else:\n",
    "            return None\n",
    "        \n",
    "    def monthly_cat_totals(self, month: Period) -> pd.DataFrame | None:\n",
    "        if month in list(set(self._temp_data['month'])):\n",
    "            return self._temp_data[self._temp_data['month'] == month][['category', 'amount']].groupby('category').sum().reset_index()\n",
    "        else:\n",
    "            return self.cat_totals\n",
    "            \n",
    "        \n",
    "            \n",
    "\n",
    "    def delete_index(self, index: int) -> None:\n",
    "        if index in self.data.index:\n",
    "            self.data = self.data.drop(index=index)\n",
    "            self.data = self.data.reset_index(drop=True)[['date', 'category', 'title', 'amount', 'notes']]\n",
    "        else:\n",
    "            raise IndexError('Index not found')\n",
    "\n",
    "    def dump(self) -> None:\n",
    "        self.data.to_csv(f'personal_finance_{self.name}.csv', index=False)\n",
    "\n",
    "    def load(self) -> None:\n",
    "        assert os.path.exists(f'personal_finance_{self.name}.csv')\n",
    "        self.data = pd.read_csv(f'personal_finance_{self.name}.csv')[['date', 'category', 'title', 'amount', 'notes']]\n",
    "        self.data['date'] = self.data['date'].apply(lambda date: date[:10])\n",
    "        self.data['date'] = pd.to_datetime(self.data['date'])\n",
    "        self._cat_totals = pd.DataFrame(columns=['category', 'amount'])\n",
    "\n",
    "\n"
   ],
   "metadata": {
    "collapsed": false,
    "ExecuteTime": {
     "end_time": "2024-06-02T03:07:02.959787Z",
     "start_time": "2024-06-02T03:07:02.947781Z"
    }
   },
   "id": "b9a0c5f2c2c89906",
   "execution_count": 153
  },
  {
   "cell_type": "code",
   "outputs": [
    {
     "data": {
      "text/plain": "  category  amount\n0     food   73.23\n1      fun   26.58\n2   living   16.20",
      "text/html": "<div>\n<style scoped>\n    .dataframe tbody tr th:only-of-type {\n        vertical-align: middle;\n    }\n\n    .dataframe tbody tr th {\n        vertical-align: top;\n    }\n\n    .dataframe thead th {\n        text-align: right;\n    }\n</style>\n<table border=\"1\" class=\"dataframe\">\n  <thead>\n    <tr style=\"text-align: right;\">\n      <th></th>\n      <th>category</th>\n      <th>amount</th>\n    </tr>\n  </thead>\n  <tbody>\n    <tr>\n      <th>0</th>\n      <td>food</td>\n      <td>73.23</td>\n    </tr>\n    <tr>\n      <th>1</th>\n      <td>fun</td>\n      <td>26.58</td>\n    </tr>\n    <tr>\n      <th>2</th>\n      <td>living</td>\n      <td>16.20</td>\n    </tr>\n  </tbody>\n</table>\n</div>"
     },
     "execution_count": 154,
     "metadata": {},
     "output_type": "execute_result"
    }
   ],
   "source": [
    "pf = PersonalFinance('user'); pf.load()\n",
    "pf.cat_totals"
   ],
   "metadata": {
    "collapsed": false,
    "ExecuteTime": {
     "end_time": "2024-06-02T03:07:03.411735Z",
     "start_time": "2024-06-02T03:07:03.403617Z"
    }
   },
   "id": "a98da325114d77d2",
   "execution_count": 154
  },
  {
   "cell_type": "code",
   "outputs": [
    {
     "data": {
      "text/plain": "  category  amount\n0     food   73.23\n1      fun   26.58\n2   living   16.20",
      "text/html": "<div>\n<style scoped>\n    .dataframe tbody tr th:only-of-type {\n        vertical-align: middle;\n    }\n\n    .dataframe tbody tr th {\n        vertical-align: top;\n    }\n\n    .dataframe thead th {\n        text-align: right;\n    }\n</style>\n<table border=\"1\" class=\"dataframe\">\n  <thead>\n    <tr style=\"text-align: right;\">\n      <th></th>\n      <th>category</th>\n      <th>amount</th>\n    </tr>\n  </thead>\n  <tbody>\n    <tr>\n      <th>0</th>\n      <td>food</td>\n      <td>73.23</td>\n    </tr>\n    <tr>\n      <th>1</th>\n      <td>fun</td>\n      <td>26.58</td>\n    </tr>\n    <tr>\n      <th>2</th>\n      <td>living</td>\n      <td>16.20</td>\n    </tr>\n  </tbody>\n</table>\n</div>"
     },
     "execution_count": 156,
     "metadata": {},
     "output_type": "execute_result"
    }
   ],
   "source": [
    "pf.monthly_cat_totals(month = Period('2024-05', 'M'))"
   ],
   "metadata": {
    "collapsed": false,
    "ExecuteTime": {
     "end_time": "2024-06-02T03:07:07.405627Z",
     "start_time": "2024-06-02T03:07:07.395028Z"
    }
   },
   "id": "b741199a39504605",
   "execution_count": 156
  },
  {
   "cell_type": "code",
   "outputs": [
    {
     "data": {
      "text/plain": "         category  amount\n0       education    0.00\n1            food    0.00\n2             fun    0.00\n3          living    0.00\n4         savings    0.00\n5       transport    0.00\nfood          NaN   73.23\nfun           NaN   26.58\nliving        NaN   16.20",
      "text/html": "<div>\n<style scoped>\n    .dataframe tbody tr th:only-of-type {\n        vertical-align: middle;\n    }\n\n    .dataframe tbody tr th {\n        vertical-align: top;\n    }\n\n    .dataframe thead th {\n        text-align: right;\n    }\n</style>\n<table border=\"1\" class=\"dataframe\">\n  <thead>\n    <tr style=\"text-align: right;\">\n      <th></th>\n      <th>category</th>\n      <th>amount</th>\n    </tr>\n  </thead>\n  <tbody>\n    <tr>\n      <th>0</th>\n      <td>education</td>\n      <td>0.00</td>\n    </tr>\n    <tr>\n      <th>1</th>\n      <td>food</td>\n      <td>0.00</td>\n    </tr>\n    <tr>\n      <th>2</th>\n      <td>fun</td>\n      <td>0.00</td>\n    </tr>\n    <tr>\n      <th>3</th>\n      <td>living</td>\n      <td>0.00</td>\n    </tr>\n    <tr>\n      <th>4</th>\n      <td>savings</td>\n      <td>0.00</td>\n    </tr>\n    <tr>\n      <th>5</th>\n      <td>transport</td>\n      <td>0.00</td>\n    </tr>\n    <tr>\n      <th>food</th>\n      <td>NaN</td>\n      <td>73.23</td>\n    </tr>\n    <tr>\n      <th>fun</th>\n      <td>NaN</td>\n      <td>26.58</td>\n    </tr>\n    <tr>\n      <th>living</th>\n      <td>NaN</td>\n      <td>16.20</td>\n    </tr>\n  </tbody>\n</table>\n</div>"
     },
     "execution_count": 125,
     "metadata": {},
     "output_type": "execute_result"
    }
   ],
   "source": [
    "all_df = pd.DataFrame({'category': sorted(['living', 'food', 'transport', 'fun', 'education', 'savings']), 'amount': [0, 0, 0, 0, 0, 0]})\n",
    "\n",
    "for month, df in pf.monthly_totals.items():\n",
    "    for category in df.index:\n",
    "        all_df.loc[category] = df.loc[category]\n",
    "all_df"
   ],
   "metadata": {
    "collapsed": false,
    "ExecuteTime": {
     "end_time": "2024-06-02T02:58:20.217019Z",
     "start_time": "2024-06-02T02:58:20.202160Z"
    }
   },
   "id": "21caf8e72368ee60",
   "execution_count": 125
  },
  {
   "cell_type": "code",
   "outputs": [
    {
     "data": {
      "text/plain": "0    73.23\n1    26.58\n2    16.20\nName: amount, dtype: float64"
     },
     "execution_count": 107,
     "metadata": {},
     "output_type": "execute_result"
    }
   ],
   "source": [
    "pf.monthly_totals[Period('2024-06', 'M')].reset_index(drop=True)['amount']"
   ],
   "metadata": {
    "collapsed": false,
    "ExecuteTime": {
     "end_time": "2024-06-02T02:53:08.849421Z",
     "start_time": "2024-06-02T02:53:08.839672Z"
    }
   },
   "id": "fb4ceb5350a04213",
   "execution_count": 107
  },
  {
   "cell_type": "code",
   "outputs": [],
   "source": [
    "\"\"\"\n",
    "PersonalFinance class, define with person's name\n",
    "attrib .data: a pandas DataFrame with entries, columns: ['date', 'category', 'title', 'amount', 'notes']\n",
    "attrib .barchart: barchart in the form of a DataFrame, with the category, category sum ('amount'), and height (log scale of amount)\n",
    "\n",
    " ／l、\n",
    "（ﾟ､ ｡ ７\n",
    "  l  ~ヽ\n",
    "  じしf_,)ノ\n",
    "\"\"\"\n",
    "\n",
    "import pandas as pd\n",
    "from datetime import datetime as dt\n",
    "import numpy as np\n",
    "import os\n",
    "\n",
    "class PersonalFinance:\n",
    "    def __init__(self, name: str):\n",
    "        self.name = name\n",
    "        # initialize dataframe with these columns\n",
    "        self.data = pd.DataFrame(columns=['date', 'category', 'title', 'amount', 'notes'])\n",
    "\n",
    "        # dataframe for totals is stored here. also includes month\n",
    "        self._cat_totals = pd.DataFrame(columns=['category', 'amount'])\n",
    "\n",
    "    def new_entry(self, date: dt.date, category: str, title: str, amount: float, notes: str = ' ') -> None:\n",
    "        new_row = pd.DataFrame([{\n",
    "            'date': date,\n",
    "            'category': category,\n",
    "            'title': title,\n",
    "            'amount': amount,\n",
    "            'notes': notes\n",
    "        }])\n",
    "        self.data = pd.concat([self.data, new_row], ignore_index=True)\n",
    "\n",
    "    @property\n",
    "    def _temp_data(self) -> pd.DataFrame:\n",
    "        # data with month, internally stored because redundant w date\n",
    "        df = self.data.copy()\n",
    "        df['date'] = pd.to_datetime(df['date'])\n",
    "        df['month'] = df['date'].dt.to_period('M')\n",
    "        return df\n",
    "\n",
    "    @property\n",
    "    def cat_totals(self) -> pd.DataFrame | None:\n",
    "        # totals by category irrespective of month\n",
    "        if not self.data.empty:\n",
    "            self.data['amount'].apply(lambda amt: float(amt)) # make sure all in float\n",
    "            return self.data[['category', 'amount']].groupby('category').sum().reset_index()\n",
    "        else:\n",
    "            return None\n",
    "\n",
    "    @property\n",
    "    def monthly_totals(self) -> pd.DataFrame | None:\n",
    "        # totals for each month, per category\n",
    "        if not self.data.empty:\n",
    "            monthly = self._temp_data.pivot_table(\n",
    "                index='month',\n",
    "                columns='category',\n",
    "                values='amount',\n",
    "                aggfunc='first',\n",
    "                fill_value=0\n",
    "            )\n",
    "            for col in ['food', 'fun', 'living', 'transport', 'savings', 'education']:\n",
    "                if col not in list(monthly.columns):\n",
    "                    monthly[col] = 0.00 # fill in empty categories with 0.00\n",
    "\n",
    "            # add 'ALL' row\n",
    "            all_row = monthly.sum().to_frame().T\n",
    "            all_row.index = ['ALL']\n",
    "            return pd.concat([monthly, all_row])\n",
    "        else:\n",
    "            None\n",
    "\n",
    "    def delete_index(self, index: int) -> None:\n",
    "        if index in self.data.index:\n",
    "            self.data = self.data.drop(index=index)\n",
    "            self.data = self.data.reset_index(drop=True)\n",
    "        else:\n",
    "            raise IndexError('Index not found')\n",
    "\n",
    "    def dump(self) -> None:\n",
    "        self.data.to_csv(f'personal_finance_{self.name}.csv', index=False)\n",
    "\n",
    "    def load(self) -> None:\n",
    "        assert os.path.exists(f'personal_finance_{self.name}.csv')\n",
    "        self.data = pd.read_csv(f'personal_finance_{self.name}.csv')\n",
    "        self.data['date'] = self.data['date'].apply(lambda date: date[:10])\n",
    "        self.data['date'] = pd.to_datetime(self.data['date'])\n",
    "        self._cat_totals = pd.DataFrame(columns=['category', 'amount'])\n",
    "\n",
    "\n"
   ],
   "metadata": {
    "collapsed": false
   },
   "id": "96e3a8246f14cf9"
  }
 ],
 "metadata": {
  "kernelspec": {
   "display_name": "Python 3",
   "language": "python",
   "name": "python3"
  },
  "language_info": {
   "codemirror_mode": {
    "name": "ipython",
    "version": 2
   },
   "file_extension": ".py",
   "mimetype": "text/x-python",
   "name": "python",
   "nbconvert_exporter": "python",
   "pygments_lexer": "ipython2",
   "version": "2.7.6"
  }
 },
 "nbformat": 4,
 "nbformat_minor": 5
}
